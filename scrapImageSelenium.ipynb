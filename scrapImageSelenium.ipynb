{
 "cells": [
  {
   "cell_type": "code",
   "execution_count": 39,
   "metadata": {},
   "outputs": [],
   "source": [
    "# ! pip install selenium"
   ]
  },
  {
   "cell_type": "code",
   "execution_count": 40,
   "metadata": {},
   "outputs": [],
   "source": [
    "# ! pip install webdriver-manager"
   ]
  },
  {
   "cell_type": "code",
   "execution_count": 41,
   "metadata": {},
   "outputs": [],
   "source": [
    "# from selenium import webdriver\n",
    "# from webdriver_manager.chrome import ChromeDriverManager\n",
    "\n",
    "# driver = webdriver.Chrome(ChromeDriverManager().install())"
   ]
  },
  {
   "cell_type": "code",
   "execution_count": 118,
   "metadata": {},
   "outputs": [],
   "source": [
    "from selenium import webdriver\n",
    "from selenium.webdriver.chrome.service import Service\n",
    "import requests\n",
    "import os\n"
   ]
  },
  {
   "cell_type": "code",
   "execution_count": 119,
   "metadata": {},
   "outputs": [],
   "source": [
    "# url of the website to scrap the image \n",
    "# url = 'https://thispersondoesnotexist.com/'\n",
    "url = 'https://www.pexels.com/search/headshot/'"
   ]
  },
  {
   "cell_type": "code",
   "execution_count": 120,
   "metadata": {},
   "outputs": [],
   "source": [
    "# path of the chromedriver\n",
    "driver_path = \"C:/webdriver/chromedriver.exe\""
   ]
  },
  {
   "cell_type": "code",
   "execution_count": 121,
   "metadata": {},
   "outputs": [],
   "source": [
    "# Folder to save images\n",
    "image_folder = 'downloaded_images'\n",
    "os.makedirs(image_folder, exist_ok=True)"
   ]
  },
  {
   "cell_type": "code",
   "execution_count": 122,
   "metadata": {},
   "outputs": [],
   "source": [
    "# Start a browser session\n",
    "service = Service(executable_path=driver_path)\n",
    "browser = webdriver.Chrome(service=service)\n",
    "browser.get(url)"
   ]
  },
  {
   "cell_type": "code",
   "execution_count": 123,
   "metadata": {},
   "outputs": [],
   "source": [
    "# Find image elements - Adjust the selector as per your target website\n",
    "from selenium.webdriver.common.by import By\n",
    "images = browser.find_elements(By.TAG_NAME, 'img')"
   ]
  },
  {
   "cell_type": "code",
   "execution_count": 124,
   "metadata": {},
   "outputs": [],
   "source": [
    "# Download images\n",
    "def run_infinte_times(index):\n",
    "    for i, image in enumerate(images):\n",
    "        img_url = image.get_attribute('src')\n",
    "        img_data = requests.get(img_url).content\n",
    "        with open(os.path.join(image_folder, f'image_{index}.jpg'), 'wb') as file:\n",
    "            file.write(img_data)"
   ]
  },
  {
   "cell_type": "code",
   "execution_count": 49,
   "metadata": {},
   "outputs": [],
   "source": [
    "for i in range(10):\n",
    "    run_infinte_times(i)"
   ]
  },
  {
   "cell_type": "code",
   "execution_count": 57,
   "metadata": {},
   "outputs": [],
   "source": [
    "for i, image in enumerate(images):\n",
    "    img_url = image.get_attribute('src')\n",
    "    img_data = requests.get(img_url).content\n",
    "    with open(os.path.join(image_folder, f'image_{i}.jpg'), 'wb') as file:\n",
    "        file.write(img_data)"
   ]
  },
  {
   "cell_type": "code",
   "execution_count": 70,
   "metadata": {},
   "outputs": [],
   "source": [
    "# Function to simulate scrolling\n",
    "import time\n",
    "def scroll_down(browser):\n",
    "    browser.execute_script(\"window.scrollTo(0, document.body.scrollHeight);\")\n",
    "    time.sleep(3)  "
   ]
  },
  {
   "cell_type": "code",
   "execution_count": 59,
   "metadata": {},
   "outputs": [],
   "source": [
    "# Scroll down the page\n",
    "for _ in range(5):  # Adjust range according to how much you want to scroll\n",
    "    scroll_down(browser)"
   ]
  },
  {
   "cell_type": "code",
   "execution_count": 60,
   "metadata": {},
   "outputs": [],
   "source": [
    "# Find all image elements\n",
    "images = browser.find_elements(By.TAG_NAME, 'img')"
   ]
  },
  {
   "cell_type": "code",
   "execution_count": null,
   "metadata": {},
   "outputs": [],
   "source": [
    "# Set to keep track of image URLs (to avoid duplicates)\n",
    "found_images = set()"
   ]
  },
  {
   "cell_type": "code",
   "execution_count": 61,
   "metadata": {},
   "outputs": [
    {
     "ename": "NoSuchElementException",
     "evalue": "Message: no such element: No node with given id found\n  (Session info: chrome=121.0.6167.86); For documentation on this error, please visit: https://www.selenium.dev/documentation/webdriver/troubleshooting/errors#no-such-element-exception\nStacktrace:\n\tGetHandleVerifier [0x00007FF7FE875E42+3538674]\n\t(No symbol) [0x00007FF7FE494C02]\n\t(No symbol) [0x00007FF7FE345AEB]\n\t(No symbol) [0x00007FF7FE333574]\n\t(No symbol) [0x00007FF7FE3313F1]\n\t(No symbol) [0x00007FF7FE331E5F]\n\t(No symbol) [0x00007FF7FE331D90]\n\t(No symbol) [0x00007FF7FE3553F1]\n\t(No symbol) [0x00007FF7FE34B92A]\n\t(No symbol) [0x00007FF7FE34BA76]\n\t(No symbol) [0x00007FF7FE349D10]\n\t(No symbol) [0x00007FF7FE34D46A]\n\t(No symbol) [0x00007FF7FE3CCA5B]\n\t(No symbol) [0x00007FF7FE3AF0AA]\n\t(No symbol) [0x00007FF7FE3CBDE3]\n\t(No symbol) [0x00007FF7FE3AEE53]\n\t(No symbol) [0x00007FF7FE37F514]\n\t(No symbol) [0x00007FF7FE380631]\n\tGetHandleVerifier [0x00007FF7FE8A6CAD+3738973]\n\tGetHandleVerifier [0x00007FF7FE8FC506+4089270]\n\tGetHandleVerifier [0x00007FF7FE8F4823+4057299]\n\tGetHandleVerifier [0x00007FF7FE5C5C49+720121]\n\t(No symbol) [0x00007FF7FE4A126F]\n\t(No symbol) [0x00007FF7FE49C304]\n\t(No symbol) [0x00007FF7FE49C432]\n\t(No symbol) [0x00007FF7FE48BD04]\n\tBaseThreadInitThunk [0x00007FFEDEB8257D+29]\n\tRtlUserThreadStart [0x00007FFEDFF6AA58+40]\n",
     "output_type": "error",
     "traceback": [
      "\u001b[1;31m---------------------------------------------------------------------------\u001b[0m",
      "\u001b[1;31mNoSuchElementException\u001b[0m                    Traceback (most recent call last)",
      "Cell \u001b[1;32mIn[61], line 3\u001b[0m\n\u001b[0;32m      1\u001b[0m \u001b[38;5;66;03m# Download each image\u001b[39;00m\n\u001b[0;32m      2\u001b[0m \u001b[38;5;28;01mfor\u001b[39;00m i, image \u001b[38;5;129;01min\u001b[39;00m \u001b[38;5;28menumerate\u001b[39m(images):\n\u001b[1;32m----> 3\u001b[0m     img_url \u001b[38;5;241m=\u001b[39m \u001b[43mimage\u001b[49m\u001b[38;5;241;43m.\u001b[39;49m\u001b[43mget_attribute\u001b[49m\u001b[43m(\u001b[49m\u001b[38;5;124;43m'\u001b[39;49m\u001b[38;5;124;43msrc\u001b[39;49m\u001b[38;5;124;43m'\u001b[39;49m\u001b[43m)\u001b[49m\n\u001b[0;32m      4\u001b[0m     \u001b[38;5;28;01mtry\u001b[39;00m:\n\u001b[0;32m      5\u001b[0m         img_data \u001b[38;5;241m=\u001b[39m requests\u001b[38;5;241m.\u001b[39mget(img_url)\u001b[38;5;241m.\u001b[39mcontent\n",
      "File \u001b[1;32mc:\\Python312\\Lib\\site-packages\\selenium\\webdriver\\remote\\webelement.py:178\u001b[0m, in \u001b[0;36mWebElement.get_attribute\u001b[1;34m(self, name)\u001b[0m\n\u001b[0;32m    176\u001b[0m \u001b[38;5;28;01mif\u001b[39;00m getAttribute_js \u001b[38;5;129;01mis\u001b[39;00m \u001b[38;5;28;01mNone\u001b[39;00m:\n\u001b[0;32m    177\u001b[0m     _load_js()\n\u001b[1;32m--> 178\u001b[0m attribute_value \u001b[38;5;241m=\u001b[39m \u001b[38;5;28;43mself\u001b[39;49m\u001b[38;5;241;43m.\u001b[39;49m\u001b[43mparent\u001b[49m\u001b[38;5;241;43m.\u001b[39;49m\u001b[43mexecute_script\u001b[49m\u001b[43m(\u001b[49m\n\u001b[0;32m    179\u001b[0m \u001b[43m    \u001b[49m\u001b[38;5;124;43mf\u001b[39;49m\u001b[38;5;124;43m\"\u001b[39;49m\u001b[38;5;124;43m/* getAttribute */return (\u001b[39;49m\u001b[38;5;132;43;01m{\u001b[39;49;00m\u001b[43mgetAttribute_js\u001b[49m\u001b[38;5;132;43;01m}\u001b[39;49;00m\u001b[38;5;124;43m).apply(null, arguments);\u001b[39;49m\u001b[38;5;124;43m\"\u001b[39;49m\u001b[43m,\u001b[49m\u001b[43m \u001b[49m\u001b[38;5;28;43mself\u001b[39;49m\u001b[43m,\u001b[49m\u001b[43m \u001b[49m\u001b[43mname\u001b[49m\n\u001b[0;32m    180\u001b[0m \u001b[43m\u001b[49m\u001b[43m)\u001b[49m\n\u001b[0;32m    181\u001b[0m \u001b[38;5;28;01mreturn\u001b[39;00m attribute_value\n",
      "File \u001b[1;32mc:\\Python312\\Lib\\site-packages\\selenium\\webdriver\\remote\\webdriver.py:407\u001b[0m, in \u001b[0;36mWebDriver.execute_script\u001b[1;34m(self, script, *args)\u001b[0m\n\u001b[0;32m    404\u001b[0m converted_args \u001b[38;5;241m=\u001b[39m \u001b[38;5;28mlist\u001b[39m(args)\n\u001b[0;32m    405\u001b[0m command \u001b[38;5;241m=\u001b[39m Command\u001b[38;5;241m.\u001b[39mW3C_EXECUTE_SCRIPT\n\u001b[1;32m--> 407\u001b[0m \u001b[38;5;28;01mreturn\u001b[39;00m \u001b[38;5;28;43mself\u001b[39;49m\u001b[38;5;241;43m.\u001b[39;49m\u001b[43mexecute\u001b[49m\u001b[43m(\u001b[49m\u001b[43mcommand\u001b[49m\u001b[43m,\u001b[49m\u001b[43m \u001b[49m\u001b[43m{\u001b[49m\u001b[38;5;124;43m\"\u001b[39;49m\u001b[38;5;124;43mscript\u001b[39;49m\u001b[38;5;124;43m\"\u001b[39;49m\u001b[43m:\u001b[49m\u001b[43m \u001b[49m\u001b[43mscript\u001b[49m\u001b[43m,\u001b[49m\u001b[43m \u001b[49m\u001b[38;5;124;43m\"\u001b[39;49m\u001b[38;5;124;43margs\u001b[39;49m\u001b[38;5;124;43m\"\u001b[39;49m\u001b[43m:\u001b[49m\u001b[43m \u001b[49m\u001b[43mconverted_args\u001b[49m\u001b[43m}\u001b[49m\u001b[43m)\u001b[49m[\u001b[38;5;124m\"\u001b[39m\u001b[38;5;124mvalue\u001b[39m\u001b[38;5;124m\"\u001b[39m]\n",
      "File \u001b[1;32mc:\\Python312\\Lib\\site-packages\\selenium\\webdriver\\remote\\webdriver.py:347\u001b[0m, in \u001b[0;36mWebDriver.execute\u001b[1;34m(self, driver_command, params)\u001b[0m\n\u001b[0;32m    345\u001b[0m response \u001b[38;5;241m=\u001b[39m \u001b[38;5;28mself\u001b[39m\u001b[38;5;241m.\u001b[39mcommand_executor\u001b[38;5;241m.\u001b[39mexecute(driver_command, params)\n\u001b[0;32m    346\u001b[0m \u001b[38;5;28;01mif\u001b[39;00m response:\n\u001b[1;32m--> 347\u001b[0m     \u001b[38;5;28;43mself\u001b[39;49m\u001b[38;5;241;43m.\u001b[39;49m\u001b[43merror_handler\u001b[49m\u001b[38;5;241;43m.\u001b[39;49m\u001b[43mcheck_response\u001b[49m\u001b[43m(\u001b[49m\u001b[43mresponse\u001b[49m\u001b[43m)\u001b[49m\n\u001b[0;32m    348\u001b[0m     response[\u001b[38;5;124m\"\u001b[39m\u001b[38;5;124mvalue\u001b[39m\u001b[38;5;124m\"\u001b[39m] \u001b[38;5;241m=\u001b[39m \u001b[38;5;28mself\u001b[39m\u001b[38;5;241m.\u001b[39m_unwrap_value(response\u001b[38;5;241m.\u001b[39mget(\u001b[38;5;124m\"\u001b[39m\u001b[38;5;124mvalue\u001b[39m\u001b[38;5;124m\"\u001b[39m, \u001b[38;5;28;01mNone\u001b[39;00m))\n\u001b[0;32m    349\u001b[0m     \u001b[38;5;28;01mreturn\u001b[39;00m response\n",
      "File \u001b[1;32mc:\\Python312\\Lib\\site-packages\\selenium\\webdriver\\remote\\errorhandler.py:229\u001b[0m, in \u001b[0;36mErrorHandler.check_response\u001b[1;34m(self, response)\u001b[0m\n\u001b[0;32m    227\u001b[0m         alert_text \u001b[38;5;241m=\u001b[39m value[\u001b[38;5;124m\"\u001b[39m\u001b[38;5;124malert\u001b[39m\u001b[38;5;124m\"\u001b[39m]\u001b[38;5;241m.\u001b[39mget(\u001b[38;5;124m\"\u001b[39m\u001b[38;5;124mtext\u001b[39m\u001b[38;5;124m\"\u001b[39m)\n\u001b[0;32m    228\u001b[0m     \u001b[38;5;28;01mraise\u001b[39;00m exception_class(message, screen, stacktrace, alert_text)  \u001b[38;5;66;03m# type: ignore[call-arg]  # mypy is not smart enough here\u001b[39;00m\n\u001b[1;32m--> 229\u001b[0m \u001b[38;5;28;01mraise\u001b[39;00m exception_class(message, screen, stacktrace)\n",
      "\u001b[1;31mNoSuchElementException\u001b[0m: Message: no such element: No node with given id found\n  (Session info: chrome=121.0.6167.86); For documentation on this error, please visit: https://www.selenium.dev/documentation/webdriver/troubleshooting/errors#no-such-element-exception\nStacktrace:\n\tGetHandleVerifier [0x00007FF7FE875E42+3538674]\n\t(No symbol) [0x00007FF7FE494C02]\n\t(No symbol) [0x00007FF7FE345AEB]\n\t(No symbol) [0x00007FF7FE333574]\n\t(No symbol) [0x00007FF7FE3313F1]\n\t(No symbol) [0x00007FF7FE331E5F]\n\t(No symbol) [0x00007FF7FE331D90]\n\t(No symbol) [0x00007FF7FE3553F1]\n\t(No symbol) [0x00007FF7FE34B92A]\n\t(No symbol) [0x00007FF7FE34BA76]\n\t(No symbol) [0x00007FF7FE349D10]\n\t(No symbol) [0x00007FF7FE34D46A]\n\t(No symbol) [0x00007FF7FE3CCA5B]\n\t(No symbol) [0x00007FF7FE3AF0AA]\n\t(No symbol) [0x00007FF7FE3CBDE3]\n\t(No symbol) [0x00007FF7FE3AEE53]\n\t(No symbol) [0x00007FF7FE37F514]\n\t(No symbol) [0x00007FF7FE380631]\n\tGetHandleVerifier [0x00007FF7FE8A6CAD+3738973]\n\tGetHandleVerifier [0x00007FF7FE8FC506+4089270]\n\tGetHandleVerifier [0x00007FF7FE8F4823+4057299]\n\tGetHandleVerifier [0x00007FF7FE5C5C49+720121]\n\t(No symbol) [0x00007FF7FE4A126F]\n\t(No symbol) [0x00007FF7FE49C304]\n\t(No symbol) [0x00007FF7FE49C432]\n\t(No symbol) [0x00007FF7FE48BD04]\n\tBaseThreadInitThunk [0x00007FFEDEB8257D+29]\n\tRtlUserThreadStart [0x00007FFEDFF6AA58+40]\n"
     ]
    }
   ],
   "source": [
    "# Download each image\n",
    "for i, image in enumerate(images):\n",
    "    img_url = image.get_attribute('src')\n",
    "    try:\n",
    "        img_data = requests.get(img_url).content\n",
    "        with open(os.path.join(image_folder, f'image_{i}.jpg'), 'wb') as file:\n",
    "            file.write(img_data)\n",
    "    except Exception as e:\n",
    "        print(f\"Failed to download image at {img_url}: {e}\")"
   ]
  },
  {
   "cell_type": "code",
   "execution_count": 125,
   "metadata": {},
   "outputs": [],
   "source": [
    "# Function to scroll down\n",
    "# Function to scroll down\n",
    "def scroll_down(browser):\n",
    "    browser.execute_script(\"window.scrollTo(0, document.body.scrollHeight);\")\n",
    "    time.sleep(10)  # Adjust based on your internet speed and website response\n",
    "\n"
   ]
  },
  {
   "cell_type": "code",
   "execution_count": 126,
   "metadata": {},
   "outputs": [],
   "source": [
    "# Set to keep track of image URLs (to avoid duplicates)\n",
    "found_images = set()"
   ]
  },
  {
   "cell_type": "code",
   "execution_count": 127,
   "metadata": {},
   "outputs": [],
   "source": [
    "# Counter for scrolls without new images\n",
    "no_new_images_count = 0\n",
    "\n",
    "# Maximum number of scrolls without new images before stopping\n",
    "max_no_new_images = 3  # Adjust this number as necessary"
   ]
  },
  {
   "cell_type": "code",
   "execution_count": 128,
   "metadata": {},
   "outputs": [
    {
     "ename": "WebDriverException",
     "evalue": "Message: disconnected: unable to send message to renderer\n  (failed to check if window was closed: disconnected: not connected to DevTools)\n  (Session info: chrome=121.0.6167.86)\nStacktrace:\n\tGetHandleVerifier [0x00007FF7FE875E42+3538674]\n\t(No symbol) [0x00007FF7FE494C02]\n\t(No symbol) [0x00007FF7FE345AEB]\n\t(No symbol) [0x00007FF7FE33142B]\n\t(No symbol) [0x00007FF7FE331E5F]\n\t(No symbol) [0x00007FF7FE348CEB]\n\t(No symbol) [0x00007FF7FE349735]\n\t(No symbol) [0x00007FF7FE34D46A]\n\t(No symbol) [0x00007FF7FE3CCA5B]\n\t(No symbol) [0x00007FF7FE3AF0AA]\n\t(No symbol) [0x00007FF7FE3CBDE3]\n\t(No symbol) [0x00007FF7FE3AEE53]\n\t(No symbol) [0x00007FF7FE37F514]\n\t(No symbol) [0x00007FF7FE380631]\n\tGetHandleVerifier [0x00007FF7FE8A6CAD+3738973]\n\tGetHandleVerifier [0x00007FF7FE8FC506+4089270]\n\tGetHandleVerifier [0x00007FF7FE8F4823+4057299]\n\tGetHandleVerifier [0x00007FF7FE5C5C49+720121]\n\t(No symbol) [0x00007FF7FE4A126F]\n\t(No symbol) [0x00007FF7FE49C304]\n\t(No symbol) [0x00007FF7FE49C432]\n\t(No symbol) [0x00007FF7FE48BD04]\n\tBaseThreadInitThunk [0x00007FFEDEB8257D+29]\n\tRtlUserThreadStart [0x00007FFEDFF6AA58+40]\n",
     "output_type": "error",
     "traceback": [
      "\u001b[1;31m---------------------------------------------------------------------------\u001b[0m",
      "\u001b[1;31mWebDriverException\u001b[0m                        Traceback (most recent call last)",
      "Cell \u001b[1;32mIn[128], line 14\u001b[0m\n\u001b[0;32m     12\u001b[0m \u001b[38;5;66;03m# Download each image if not already downloaded\u001b[39;00m\n\u001b[0;32m     13\u001b[0m \u001b[38;5;28;01mfor\u001b[39;00m image \u001b[38;5;129;01min\u001b[39;00m images:\n\u001b[1;32m---> 14\u001b[0m     img_url \u001b[38;5;241m=\u001b[39m \u001b[43mimage\u001b[49m\u001b[38;5;241;43m.\u001b[39;49m\u001b[43mget_attribute\u001b[49m\u001b[43m(\u001b[49m\u001b[38;5;124;43m'\u001b[39;49m\u001b[38;5;124;43msrc\u001b[39;49m\u001b[38;5;124;43m'\u001b[39;49m\u001b[43m)\u001b[49m\n\u001b[0;32m     15\u001b[0m     \u001b[38;5;28;01mif\u001b[39;00m img_url \u001b[38;5;129;01mand\u001b[39;00m img_url \u001b[38;5;129;01mnot\u001b[39;00m \u001b[38;5;129;01min\u001b[39;00m found_images:\n\u001b[0;32m     16\u001b[0m         \u001b[38;5;28;01mtry\u001b[39;00m:\n",
      "File \u001b[1;32mc:\\Python312\\Lib\\site-packages\\selenium\\webdriver\\remote\\webelement.py:178\u001b[0m, in \u001b[0;36mWebElement.get_attribute\u001b[1;34m(self, name)\u001b[0m\n\u001b[0;32m    176\u001b[0m \u001b[38;5;28;01mif\u001b[39;00m getAttribute_js \u001b[38;5;129;01mis\u001b[39;00m \u001b[38;5;28;01mNone\u001b[39;00m:\n\u001b[0;32m    177\u001b[0m     _load_js()\n\u001b[1;32m--> 178\u001b[0m attribute_value \u001b[38;5;241m=\u001b[39m \u001b[38;5;28;43mself\u001b[39;49m\u001b[38;5;241;43m.\u001b[39;49m\u001b[43mparent\u001b[49m\u001b[38;5;241;43m.\u001b[39;49m\u001b[43mexecute_script\u001b[49m\u001b[43m(\u001b[49m\n\u001b[0;32m    179\u001b[0m \u001b[43m    \u001b[49m\u001b[38;5;124;43mf\u001b[39;49m\u001b[38;5;124;43m\"\u001b[39;49m\u001b[38;5;124;43m/* getAttribute */return (\u001b[39;49m\u001b[38;5;132;43;01m{\u001b[39;49;00m\u001b[43mgetAttribute_js\u001b[49m\u001b[38;5;132;43;01m}\u001b[39;49;00m\u001b[38;5;124;43m).apply(null, arguments);\u001b[39;49m\u001b[38;5;124;43m\"\u001b[39;49m\u001b[43m,\u001b[49m\u001b[43m \u001b[49m\u001b[38;5;28;43mself\u001b[39;49m\u001b[43m,\u001b[49m\u001b[43m \u001b[49m\u001b[43mname\u001b[49m\n\u001b[0;32m    180\u001b[0m \u001b[43m\u001b[49m\u001b[43m)\u001b[49m\n\u001b[0;32m    181\u001b[0m \u001b[38;5;28;01mreturn\u001b[39;00m attribute_value\n",
      "File \u001b[1;32mc:\\Python312\\Lib\\site-packages\\selenium\\webdriver\\remote\\webdriver.py:407\u001b[0m, in \u001b[0;36mWebDriver.execute_script\u001b[1;34m(self, script, *args)\u001b[0m\n\u001b[0;32m    404\u001b[0m converted_args \u001b[38;5;241m=\u001b[39m \u001b[38;5;28mlist\u001b[39m(args)\n\u001b[0;32m    405\u001b[0m command \u001b[38;5;241m=\u001b[39m Command\u001b[38;5;241m.\u001b[39mW3C_EXECUTE_SCRIPT\n\u001b[1;32m--> 407\u001b[0m \u001b[38;5;28;01mreturn\u001b[39;00m \u001b[38;5;28;43mself\u001b[39;49m\u001b[38;5;241;43m.\u001b[39;49m\u001b[43mexecute\u001b[49m\u001b[43m(\u001b[49m\u001b[43mcommand\u001b[49m\u001b[43m,\u001b[49m\u001b[43m \u001b[49m\u001b[43m{\u001b[49m\u001b[38;5;124;43m\"\u001b[39;49m\u001b[38;5;124;43mscript\u001b[39;49m\u001b[38;5;124;43m\"\u001b[39;49m\u001b[43m:\u001b[49m\u001b[43m \u001b[49m\u001b[43mscript\u001b[49m\u001b[43m,\u001b[49m\u001b[43m \u001b[49m\u001b[38;5;124;43m\"\u001b[39;49m\u001b[38;5;124;43margs\u001b[39;49m\u001b[38;5;124;43m\"\u001b[39;49m\u001b[43m:\u001b[49m\u001b[43m \u001b[49m\u001b[43mconverted_args\u001b[49m\u001b[43m}\u001b[49m\u001b[43m)\u001b[49m[\u001b[38;5;124m\"\u001b[39m\u001b[38;5;124mvalue\u001b[39m\u001b[38;5;124m\"\u001b[39m]\n",
      "File \u001b[1;32mc:\\Python312\\Lib\\site-packages\\selenium\\webdriver\\remote\\webdriver.py:347\u001b[0m, in \u001b[0;36mWebDriver.execute\u001b[1;34m(self, driver_command, params)\u001b[0m\n\u001b[0;32m    345\u001b[0m response \u001b[38;5;241m=\u001b[39m \u001b[38;5;28mself\u001b[39m\u001b[38;5;241m.\u001b[39mcommand_executor\u001b[38;5;241m.\u001b[39mexecute(driver_command, params)\n\u001b[0;32m    346\u001b[0m \u001b[38;5;28;01mif\u001b[39;00m response:\n\u001b[1;32m--> 347\u001b[0m     \u001b[38;5;28;43mself\u001b[39;49m\u001b[38;5;241;43m.\u001b[39;49m\u001b[43merror_handler\u001b[49m\u001b[38;5;241;43m.\u001b[39;49m\u001b[43mcheck_response\u001b[49m\u001b[43m(\u001b[49m\u001b[43mresponse\u001b[49m\u001b[43m)\u001b[49m\n\u001b[0;32m    348\u001b[0m     response[\u001b[38;5;124m\"\u001b[39m\u001b[38;5;124mvalue\u001b[39m\u001b[38;5;124m\"\u001b[39m] \u001b[38;5;241m=\u001b[39m \u001b[38;5;28mself\u001b[39m\u001b[38;5;241m.\u001b[39m_unwrap_value(response\u001b[38;5;241m.\u001b[39mget(\u001b[38;5;124m\"\u001b[39m\u001b[38;5;124mvalue\u001b[39m\u001b[38;5;124m\"\u001b[39m, \u001b[38;5;28;01mNone\u001b[39;00m))\n\u001b[0;32m    349\u001b[0m     \u001b[38;5;28;01mreturn\u001b[39;00m response\n",
      "File \u001b[1;32mc:\\Python312\\Lib\\site-packages\\selenium\\webdriver\\remote\\errorhandler.py:229\u001b[0m, in \u001b[0;36mErrorHandler.check_response\u001b[1;34m(self, response)\u001b[0m\n\u001b[0;32m    227\u001b[0m         alert_text \u001b[38;5;241m=\u001b[39m value[\u001b[38;5;124m\"\u001b[39m\u001b[38;5;124malert\u001b[39m\u001b[38;5;124m\"\u001b[39m]\u001b[38;5;241m.\u001b[39mget(\u001b[38;5;124m\"\u001b[39m\u001b[38;5;124mtext\u001b[39m\u001b[38;5;124m\"\u001b[39m)\n\u001b[0;32m    228\u001b[0m     \u001b[38;5;28;01mraise\u001b[39;00m exception_class(message, screen, stacktrace, alert_text)  \u001b[38;5;66;03m# type: ignore[call-arg]  # mypy is not smart enough here\u001b[39;00m\n\u001b[1;32m--> 229\u001b[0m \u001b[38;5;28;01mraise\u001b[39;00m exception_class(message, screen, stacktrace)\n",
      "\u001b[1;31mWebDriverException\u001b[0m: Message: disconnected: unable to send message to renderer\n  (failed to check if window was closed: disconnected: not connected to DevTools)\n  (Session info: chrome=121.0.6167.86)\nStacktrace:\n\tGetHandleVerifier [0x00007FF7FE875E42+3538674]\n\t(No symbol) [0x00007FF7FE494C02]\n\t(No symbol) [0x00007FF7FE345AEB]\n\t(No symbol) [0x00007FF7FE33142B]\n\t(No symbol) [0x00007FF7FE331E5F]\n\t(No symbol) [0x00007FF7FE348CEB]\n\t(No symbol) [0x00007FF7FE349735]\n\t(No symbol) [0x00007FF7FE34D46A]\n\t(No symbol) [0x00007FF7FE3CCA5B]\n\t(No symbol) [0x00007FF7FE3AF0AA]\n\t(No symbol) [0x00007FF7FE3CBDE3]\n\t(No symbol) [0x00007FF7FE3AEE53]\n\t(No symbol) [0x00007FF7FE37F514]\n\t(No symbol) [0x00007FF7FE380631]\n\tGetHandleVerifier [0x00007FF7FE8A6CAD+3738973]\n\tGetHandleVerifier [0x00007FF7FE8FC506+4089270]\n\tGetHandleVerifier [0x00007FF7FE8F4823+4057299]\n\tGetHandleVerifier [0x00007FF7FE5C5C49+720121]\n\t(No symbol) [0x00007FF7FE4A126F]\n\t(No symbol) [0x00007FF7FE49C304]\n\t(No symbol) [0x00007FF7FE49C432]\n\t(No symbol) [0x00007FF7FE48BD04]\n\tBaseThreadInitThunk [0x00007FFEDEB8257D+29]\n\tRtlUserThreadStart [0x00007FFEDFF6AA58+40]\n"
     ]
    }
   ],
   "source": [
    "# Keep scrolling and scraping until no new images are found for a certain number of scrolls\n",
    "while no_new_images_count < max_no_new_images:\n",
    "    # Scroll down the page\n",
    "    scroll_down(browser)\n",
    "\n",
    "    # Find all image elements\n",
    "    images = browser.find_elements(By.TAG_NAME, 'img')\n",
    "\n",
    "    # Track whether new images are found in this loop\n",
    "    new_images_found = False\n",
    "\n",
    "    # Download each image if not already downloaded\n",
    "    for image in images:\n",
    "        img_url = image.get_attribute('src')\n",
    "        if img_url and img_url not in found_images:\n",
    "            try:\n",
    "                img_data = requests.get(img_url).content\n",
    "                img_filename = os.path.join(image_folder, f'image_{len(found_images)}.jpg')\n",
    "                with open(img_filename, 'wb') as file:\n",
    "                    file.write(img_data)\n",
    "                found_images.add(img_url)\n",
    "                new_images_found = True\n",
    "            except Exception as e:\n",
    "                print(f\"Failed to download image at {img_url}: {e}\")\n",
    "\n",
    "    # Update the no_new_images_count\n",
    "    if not new_images_found:\n",
    "        no_new_images_count += 1\n",
    "    else:\n",
    "        no_new_images_count = 0\n",
    "\n",
    "# Close the browser session\n",
    "browser.quit()"
   ]
  },
  {
   "cell_type": "code",
   "execution_count": null,
   "metadata": {},
   "outputs": [],
   "source": []
  }
 ],
 "metadata": {
  "kernelspec": {
   "display_name": "Python 3",
   "language": "python",
   "name": "python3"
  },
  "language_info": {
   "codemirror_mode": {
    "name": "ipython",
    "version": 3
   },
   "file_extension": ".py",
   "mimetype": "text/x-python",
   "name": "python",
   "nbconvert_exporter": "python",
   "pygments_lexer": "ipython3",
   "version": "3.12.1"
  }
 },
 "nbformat": 4,
 "nbformat_minor": 2
}
